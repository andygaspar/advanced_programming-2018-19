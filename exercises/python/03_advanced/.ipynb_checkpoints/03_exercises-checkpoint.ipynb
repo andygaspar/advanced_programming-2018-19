{
 "cells": [
  {
   "cell_type": "code",
   "execution_count": 1,
   "metadata": {},
   "outputs": [],
   "source": [
    "class MyRange:\n",
    "    def __init__(self,a,b=None,c=None):\n",
    "        if b==None:\n",
    "            self.begin=0\n",
    "            self.end=a\n",
    "            self.step=1\n",
    "        else:\n",
    "            if c==None:\n",
    "                self.begin=a\n",
    "                self.end=b\n",
    "                self.step=1\n",
    "            else:\n",
    "                self.begin=a\n",
    "                self.end=b\n",
    "                self.step=c\n",
    "        r=[]\n",
    "        k=self.begin\n",
    "        while k<self.end:\n",
    "            r.append(k)\n",
    "            k+=self.step\n",
    "        self.list=r\n",
    "            \n",
    "    def __iter__(self):\n",
    "        return iter(self.list)\n",
    "    def __getitem__(self,i):\n",
    "        return self.list[i]\n",
    "    def __str__(self):\n",
    "        pr=\"MyRange\"+\"(\"+str(self.begin)+\",\"+str(self.end)+\",\"+str(self.step)+\")\"\n",
    "        return pr    "
   ]
  },
  {
   "cell_type": "code",
   "execution_count": 2,
   "metadata": {},
   "outputs": [],
   "source": [
    "def myrange(a,b=None,c=None):\n",
    "    if b==None:\n",
    "            begin=0\n",
    "            end=a\n",
    "            step=1\n",
    "    else:\n",
    "        if c==None:\n",
    "            begin=a\n",
    "            end=b\n",
    "            step=1\n",
    "        else:\n",
    "            begin=a\n",
    "            end=b\n",
    "            step=c\n",
    "    r=[]\n",
    "    k=begin\n",
    "    while k<end:\n",
    "        r.append(k)\n",
    "        k+=step\n",
    "    return r"
   ]
  }
 ],
 "metadata": {
  "kernelspec": {
   "display_name": "Python 3",
   "language": "python",
   "name": "python3"
  },
  "language_info": {
   "codemirror_mode": {
    "name": "ipython",
    "version": 3
   },
   "file_extension": ".py",
   "mimetype": "text/x-python",
   "name": "python",
   "nbconvert_exporter": "python",
   "pygments_lexer": "ipython3",
   "version": "3.7.0"
  }
 },
 "nbformat": 4,
 "nbformat_minor": 2
}
