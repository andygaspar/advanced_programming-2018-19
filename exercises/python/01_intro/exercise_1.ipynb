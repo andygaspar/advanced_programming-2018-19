{
 "cells": [
  {
   "cell_type": "code",
   "execution_count": 92,
   "metadata": {},
   "outputs": [],
   "source": [
    "import math\n",
    "def palindrome(string):\n",
    "    string=list(string)\n",
    "    for i in range(0,int(len(string)/2)):\n",
    "        if string[i]!=string[-(1+i)]:\n",
    "            return False\n",
    "    return True\n",
    "    \n",
    "def palindrome_easy(a):\n",
    "    return a==\"\".join(reversed(a))"
   ]
  },
  {
   "cell_type": "code",
   "execution_count": 93,
   "metadata": {},
   "outputs": [],
   "source": [
    "def histogram_letters(a):\n",
    "    a=list(a)\n",
    "    dic={}\n",
    "    for i in a:\n",
    "        if i not in dic:\n",
    "            dic[i]=0\n",
    "        dic[i]+=1\n",
    "        \n",
    "    return dic   "
   ]
  },
  {
   "cell_type": "code",
   "execution_count": 94,
   "metadata": {},
   "outputs": [],
   "source": [
    "def get_most_frequent(a):\n",
    "    dic=hist(a)\n",
    "    val=max(dic,key=dic.get)\n",
    "    return val,dic[val]"
   ]
  },
  {
   "cell_type": "code",
   "execution_count": 95,
   "metadata": {},
   "outputs": [],
   "source": [
    "def which_duplicates(a):\n",
    "    a=list(a)\n",
    "    dic={}\n",
    "    dic_rep={}\n",
    "    for i in a:\n",
    "        if i not in dic:\n",
    "            dic[i]=0\n",
    "        dic[i]+=1\n",
    "        if dic[i]>1:\n",
    "            dic_rep[i]=dic[i]\n",
    "        \n",
    "        \n",
    "    return dic_rep "
   ]
  },
  {
   "cell_type": "code",
   "execution_count": 96,
   "metadata": {},
   "outputs": [],
   "source": [
    "def factorial(n):\n",
    "    fact=1\n",
    "    for i in range(2,n+1):\n",
    "        fact*=i\n",
    "    return fact"
   ]
  },
  {
   "cell_type": "code",
   "execution_count": 97,
   "metadata": {},
   "outputs": [],
   "source": [
    "import math\n",
    "def is_prime(n):\n",
    "    if n%2==0:\n",
    "        return False\n",
    "    for i in range(3,int (math.sqrt(n)),2):\n",
    "        if n%i==0:\n",
    "            return False\n",
    "    return True"
   ]
  }
 ],
 "metadata": {
  "kernelspec": {
   "display_name": "Python 3",
   "language": "python",
   "name": "python3"
  },
  "language_info": {
   "codemirror_mode": {
    "name": "ipython",
    "version": 3
   },
   "file_extension": ".py",
   "mimetype": "text/x-python",
   "name": "python",
   "nbconvert_exporter": "python",
   "pygments_lexer": "ipython3",
   "version": "3.7.0"
  }
 },
 "nbformat": 4,
 "nbformat_minor": 2
}
